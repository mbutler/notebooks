{
 "cells": [
  {
   "cell_type": "code",
   "execution_count": 20,
   "metadata": {},
   "outputs": [],
   "source": [
    "import re"
   ]
  },
  {
   "cell_type": "code",
   "execution_count": 51,
   "metadata": {},
   "outputs": [],
   "source": [
    "raw_text = \"\"\"\n",
    "Table\t\t\t\n",
    "401\tAddicted \t416\tControlled by Stars \n",
    "402-403\tAddictive Personality \t417\tDaylight Stasis \n",
    "404\tAlways Afraid \t418\tDeep Sleeper \n",
    "405\tAnxious \t419\tDegenerate Gambler \n",
    "406\tBerserker \t420\tDependency \n",
    "407\tBlood Rage \t421-422\tDepression \n",
    "408\tBreakdowns \t423\tDrone \n",
    "409\tBurrower \t424\tDrone Producer \n",
    "410-411\tCarnivore \t425-426\tEating Disorder \n",
    "412\tCode of Honour \t427\tEgg Layer \n",
    "413\tCompulsive Behaviour \t428\tExcessive Sleeper \n",
    "414\tCompulsive Liar \t429\tExternal Digestion \n",
    "415\tContrarian \t430\tFaith \n",
    "\t\t\t\n",
    "\t\t\t\n",
    "Table\t\t\t\n",
    "344-346\tRegeneration \t373\tStructural Weakness \n",
    "347\tRespiratory Filters \t374\tSuckers \n",
    "348\tRoots and Vines \t375-376\tTelescopic Vision \n",
    "349\tRotating Body Part \t377-378\tTemperature Resistance \n",
    "350\tRotting Flesh \t379-380\tTemperature Sensitivity \n",
    "351\tRubber Bones \t381\tThin Skin \n",
    "352\tRubbery Skin \t382\tTotal Healing \n",
    "353\tSaliva Substitution \t383\tToxic \n",
    "354\tSalt Drinker \t384\tToxin Resistance \n",
    "355\tSanitized Metabolism \t385\tTrail of Slime \n",
    "356\tShapechanger \t386\tTremor Sense \n",
    "357\tShedding \t387\tTunnel Vision \n",
    "358\tShort Life \t388\tUltravision \n",
    "359-360\tSilent Movement \t389\tUncontrollable Flatulence \n",
    "361\tSilk Production \t390-391\tVenomous Bite \n",
    "362-363\tSlow Healer \t392\tVentriloquist \n",
    "364-365\tSonar \t393\tVents \n",
    "366\tSonic Blast \t394\tVoluminous Lungs \n",
    "367\tSound Mimicry \t395\tVomits at Will \n",
    "368\tSpinning \t396\tWater Dependency \n",
    "369\tSpore Cloud \t397\tWater-Soluble Skin \n",
    "370\tSprint \t398\tWeak Spot \n",
    "371\tStiff Joints \t399\tWet Skin \n",
    "372\tStrong Skeleton \t400\tWounding Genitals  \n",
    "\"\"\""
   ]
  },
  {
   "cell_type": "code",
   "execution_count": 52,
   "metadata": {},
   "outputs": [],
   "source": [
    "raw_text2 = re.sub('\\s+(?=\\d)', '\\n{range: [', raw_text)"
   ]
  },
  {
   "cell_type": "code",
   "execution_count": 53,
   "metadata": {},
   "outputs": [],
   "source": [
    "raw_text3 = re.sub('(?<=\\d\\s)', '], name: \"', raw_text2)"
   ]
  },
  {
   "cell_type": "code",
   "execution_count": 54,
   "metadata": {},
   "outputs": [],
   "source": [
    "raw_text4 = re.sub('\t', '', raw_text3)"
   ]
  },
  {
   "cell_type": "code",
   "execution_count": 55,
   "metadata": {},
   "outputs": [],
   "source": [
    "raw_text5 = re.sub('\\n', '\"},\\n', raw_text4)\n",
    "raw_text6 = re.sub('^\"},', '', raw_text5)"
   ]
  },
  {
   "cell_type": "code",
   "execution_count": 56,
   "metadata": {},
   "outputs": [
    {
     "name": "stdout",
     "output_type": "stream",
     "text": [
      "\n",
      "Table\"},\n",
      "{range: [401], name: \"Addicted\"},\n",
      "{range: [416], name: \"Controlled by Stars\"},\n",
      "{range: [402, 403], name: \"Addictive Personality\"},\n",
      "{range: [417], name: \"Daylight Stasis\"},\n",
      "{range: [404], name: \"Always Afraid\"},\n",
      "{range: [418], name: \"Deep Sleeper\"},\n",
      "{range: [405], name: \"Anxious\"},\n",
      "{range: [419], name: \"Degenerate Gambler\"},\n",
      "{range: [406], name: \"Berserker\"},\n",
      "{range: [420], name: \"Dependency\"},\n",
      "{range: [407], name: \"Blood Rage\"},\n",
      "{range: [421, 422], name: \"Depression\"},\n",
      "{range: [408], name: \"Breakdowns\"},\n",
      "{range: [423], name: \"Drone\"},\n",
      "{range: [409], name: \"Burrower\"},\n",
      "{range: [424], name: \"Drone Producer\"},\n",
      "{range: [410, 411], name: \"Carnivore\"},\n",
      "{range: [425, 426], name: \"Eating Disorder\"},\n",
      "{range: [412], name: \"Code of Honour\"},\n",
      "{range: [427], name: \"Egg Layer\"},\n",
      "{range: [413], name: \"Compulsive Behaviour\"},\n",
      "{range: [428], name: \"Excessive Sleeper\"},\n",
      "{range: [414], name: \"Compulsive Liar\"},\n",
      "{range: [429], name: \"External Digestion\"},\n",
      "{range: [415], name: \"Contrarian\"},\n",
      "{range: [430], name: \"Faith \"},\n",
      "\"},\n",
      "\"},\n",
      "Table\"},\n",
      "{range: [344, 346], name: \"Regeneration\"},\n",
      "{range: [373], name: \"Structural Weakness\"},\n",
      "{range: [347], name: \"Respiratory Filters\"},\n",
      "{range: [374], name: \"Suckers\"},\n",
      "{range: [348], name: \"Roots and Vines\"},\n",
      "{range: [375, 376], name: \"Telescopic Vision\"},\n",
      "{range: [349], name: \"Rotating Body Part\"},\n",
      "{range: [377, 378], name: \"Temperature Resistance\"},\n",
      "{range: [350], name: \"Rotting Flesh\"},\n",
      "{range: [379, 380], name: \"Temperature Sensitivity\"},\n",
      "{range: [351], name: \"Rubber Bones\"},\n",
      "{range: [381], name: \"Thin Skin\"},\n",
      "{range: [352], name: \"Rubbery Skin\"},\n",
      "{range: [382], name: \"Total Healing\"},\n",
      "{range: [353], name: \"Saliva Substitution\"},\n",
      "{range: [383], name: \"Toxic\"},\n",
      "{range: [354], name: \"Salt Drinker\"},\n",
      "{range: [384], name: \"Toxin Resistance\"},\n",
      "{range: [355], name: \"Sanitized Metabolism\"},\n",
      "{range: [385], name: \"Trail of Slime\"},\n",
      "{range: [356], name: \"Shapechanger\"},\n",
      "{range: [386], name: \"Tremor Sense\"},\n",
      "{range: [357], name: \"Shedding\"},\n",
      "{range: [387], name: \"Tunnel Vision\"},\n",
      "{range: [358], name: \"Short Life\"},\n",
      "{range: [388], name: \"Ultravision\"},\n",
      "{range: [359, 360], name: \"Silent Movement\"},\n",
      "{range: [389], name: \"Uncontrollable Flatulence\"},\n",
      "{range: [361], name: \"Silk Production\"},\n",
      "{range: [390, 391], name: \"Venomous Bite\"},\n",
      "{range: [362, 363], name: \"Slow Healer\"},\n",
      "{range: [392], name: \"Ventriloquist\"},\n",
      "{range: [364, 365], name: \"Sonar\"},\n",
      "{range: [393], name: \"Vents\"},\n",
      "{range: [366], name: \"Sonic Blast\"},\n",
      "{range: [394], name: \"Voluminous Lungs\"},\n",
      "{range: [367], name: \"Sound Mimicry\"},\n",
      "{range: [395], name: \"Vomits at Will\"},\n",
      "{range: [368], name: \"Spinning\"},\n",
      "{range: [396], name: \"Water Dependency\"},\n",
      "{range: [369], name: \"Spore Cloud\"},\n",
      "{range: [397], name: \"Water, Soluble Skin\"},\n",
      "{range: [370], name: \"Sprint\"},\n",
      "{range: [398], name: \"Weak Spot\"},\n",
      "{range: [371], name: \"Stiff Joints\"},\n",
      "{range: [399], name: \"Wet Skin\"},\n",
      "{range: [372], name: \"Strong Skeleton\"},\n",
      "{range: [400], name: \"Wounding Genitals  \"}\n"
     ]
    }
   ],
   "source": [
    "raw_text7 = re.sub('-', ', ', raw_text6)\n",
    "raw_text8 = raw_text7[:-2]\n",
    "print(raw_text8)"
   ]
  },
  {
   "cell_type": "code",
   "execution_count": null,
   "metadata": {},
   "outputs": [],
   "source": []
  }
 ],
 "metadata": {
  "kernelspec": {
   "display_name": "Python 3",
   "language": "python",
   "name": "python3"
  },
  "language_info": {
   "codemirror_mode": {
    "name": "ipython",
    "version": 3
   },
   "file_extension": ".py",
   "mimetype": "text/x-python",
   "name": "python",
   "nbconvert_exporter": "python",
   "pygments_lexer": "ipython3",
   "version": "3.7.3"
  }
 },
 "nbformat": 4,
 "nbformat_minor": 2
}
